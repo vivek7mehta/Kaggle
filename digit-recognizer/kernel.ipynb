{
  "cells": [
    {
      "metadata": {
        "_uuid": "8f2839f25d086af736a60e9eeb907d3b93b6e0e5",
        "_cell_guid": "b1076dfc-b9ad-4769-8c92-a6c4dae69d19",
        "trusted": true
      },
      "cell_type": "code",
      "source": "# This Python 3 environment comes with many helpful analytics libraries installed\n# It is defined by the kaggle/python docker image: https://github.com/kaggle/docker-python\n# For example, here's several helpful packages to load in \n\nimport numpy as np # linear algebra\nimport pandas as pd # data processing, CSV file I/O (e.g. pd.read_csv)\n\n# Input data files are available in the \"../input/\" directory.\n# For example, running this (by clicking run or pressing Shift+Enter) will list the files in the input directory\n\nimport os\nprint(os.listdir(\"../input\"))\n\nimport tensorflow as tf\n# Any results you write to the current directory are saved as output.\n\ntrain = pd.read_csv('../input/train.csv')\ntest = pd.read_csv('../input/test.csv')\n\nx_train,y_train = train.iloc[:,1:].values,train['label'].values\n\nx_test = test.iloc[:,:].values\nprint(x_train.shape)\nx_train = np.reshape(x_train,(-1,28,28,1))\nx_test = np.reshape(x_test,( -1 , 28 , 28 , 1))\n\nx_train , x_test = x_train/255.0 , x_test/255.0\n\nmodel = tf.keras.models.Sequential([\n    tf.keras.layers.Conv2D(24,(3,3),activation='relu',padding='same' ,input_shape=(28,28,1)),\n    tf.keras.layers.Conv2D(24,(3,3),activation='relu',padding='same'),\n    tf.keras.layers.MaxPooling2D(pool_size=(2, 2)),\n    tf.keras.layers.Conv2D(16,(3,3),activation='relu',padding='same'),\n    tf.keras.layers.Conv2D(16,(3,3),activation='relu',padding='same'),\n    tf.keras.layers.MaxPooling2D(pool_size=(2, 2)),\n    tf.keras.layers.Flatten(),\n    tf.keras.layers.Dense(60,activation='relu'),\n    tf.keras.layers.BatchNormalization(),\n    tf.keras.layers.Dense(60,activation='relu'),\n    tf.keras.layers.Dense(10, activation='softmax')\n])\n\n",
      "execution_count": null,
      "outputs": []
    },
    {
      "metadata": {
        "_cell_guid": "79c7e3d0-c299-4dcb-8224-4455121ee9b0",
        "_uuid": "d629ff2d2480ee46fbb7e2d37f6b5fab8052498a",
        "trusted": true
      },
      "cell_type": "code",
      "source": "\nmodel.compile(optimizer='adam',loss='sparse_categorical_crossentropy',metrics=['accuracy'])\nmodel.fit(x_train, y_train, epochs=15,validation_split=0.2)\n\n",
      "execution_count": null,
      "outputs": []
    },
    {
      "metadata": {
        "trusted": true,
        "_uuid": "ce3b4fd45076a7554c3a41c11ad8d79e42124a79"
      },
      "cell_type": "code",
      "source": "result = model.predict(x_test)",
      "execution_count": null,
      "outputs": []
    },
    {
      "metadata": {
        "_kg_hide-output": false,
        "trusted": true,
        "_uuid": "4f358fd9bc1059cd5ee7ffc3f5a110dd81820077"
      },
      "cell_type": "code",
      "source": "digits = np.argmax(result,axis=1)\nresults = pd.Series(digits,name=\"Label\")\noutput = pd.concat([pd.Series(range(1,28001),name = \"ImageId\"),results],axis = 1)\noutput.to_csv(\"output.csv\",index=False)",
      "execution_count": null,
      "outputs": []
    },
    {
      "metadata": {
        "trusted": true,
        "_uuid": "000828b3fb7b169b526762f0e357fb86bf329013"
      },
      "cell_type": "code",
      "source": "",
      "execution_count": null,
      "outputs": []
    }
  ],
  "metadata": {
    "kernelspec": {
      "display_name": "Python 3",
      "language": "python",
      "name": "python3"
    },
    "language_info": {
      "name": "python",
      "version": "3.6.6",
      "mimetype": "text/x-python",
      "codemirror_mode": {
        "name": "ipython",
        "version": 3
      },
      "pygments_lexer": "ipython3",
      "nbconvert_exporter": "python",
      "file_extension": ".py"
    }
  },
  "nbformat": 4,
  "nbformat_minor": 1
}