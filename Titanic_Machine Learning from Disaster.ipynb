{
  "nbformat": 4,
  "nbformat_minor": 0,
  "metadata": {
    "colab": {
      "name": "Untitled3.ipynb",
      "version": "0.3.2",
      "provenance": []
    },
    "kernelspec": {
      "name": "python3",
      "display_name": "Python 3"
    },
    "accelerator": "GPU"
  },
  "cells": [
    {
      "metadata": {
        "id": "a39JSSKOzED9",
        "colab_type": "code",
        "colab": {}
      },
      "cell_type": "code",
      "source": [
        "import os\n",
        "#!kaggle competitions download -c titanic"
      ],
      "execution_count": 0,
      "outputs": []
    },
    {
      "metadata": {
        "id": "XL3hWusY0KXj",
        "colab_type": "code",
        "colab": {}
      },
      "cell_type": "code",
      "source": [
        "import numpy as np \n",
        "import pandas as pd \n",
        "from sklearn.model_selection import train_test_split"
      ],
      "execution_count": 0,
      "outputs": []
    },
    {
      "metadata": {
        "id": "ulMAtsxwsPtH",
        "colab_type": "code",
        "colab": {}
      },
      "cell_type": "code",
      "source": [
        "train = pd.read_csv('train.csv')\n",
        "test_csv = pd.read_csv('test.csv')\n",
        "x,y = train.drop(['Survived'],axis=1),train.Survived"
      ],
      "execution_count": 0,
      "outputs": []
    },
    {
      "metadata": {
        "id": "3GoNbTz_tMch",
        "colab_type": "code",
        "colab": {}
      },
      "cell_type": "code",
      "source": [
        ""
      ],
      "execution_count": 0,
      "outputs": []
    },
    {
      "metadata": {
        "id": "iPOEU4YlsShs",
        "colab_type": "code",
        "colab": {}
      },
      "cell_type": "code",
      "source": [
        "def preprocess(x):\n",
        "        \n",
        "    x = x.drop(['PassengerId','Ticket'],axis=1)\n",
        "\n",
        "    x.Embarked = pd.Categorical(x.Embarked)\n",
        "    x.Embarked = x.Embarked.cat.codes\n",
        "\n",
        "    x['FamilySize'] = x.Parch + x.SibSp\n",
        "    \n",
        "    x['isAlone'] = x.FamilySize.map(lambda p: 1 if (p==1) else 0)\n",
        "    \n",
        "    x.Cabin = x.Cabin.isna()\n",
        "    x.Name = x.Name.str.extract('.+ (.+)\\.')\n",
        "    x.Name = pd.Categorical(x.Name)\n",
        "    x.Name = x.Name.cat.codes\n",
        "\n",
        "    x.Sex = pd.Categorical(x.Sex)\n",
        "    x.Sex = x.Sex.cat.codes\n",
        "    return x\n",
        "\n",
        "x = preprocess(x)\n",
        "test = preprocess(test_csv)"
      ],
      "execution_count": 0,
      "outputs": []
    },
    {
      "metadata": {
        "id": "vBLTXMLAseG2",
        "colab_type": "code",
        "colab": {}
      },
      "cell_type": "code",
      "source": [
        "x_train,y_train = x,y\n",
        "x_train, x_val, y_train, y_val = train_test_split(x, y, test_size=0.20,shuffle=True,random_state=42)\n",
        "#x_train = pd.get_dummies(x_train, columns=['Name','Embarked','Sex'])\n",
        "#x_val = pd.get_dummies(x_val, columns=['Name','Embarked','Sex'])\n",
        "age_fill_value = x_train.Age.mean()\n",
        "fare_fill_value = x_train.Fare.mean()"
      ],
      "execution_count": 0,
      "outputs": []
    },
    {
      "metadata": {
        "id": "q-G_6Ms5sfuG",
        "colab_type": "code",
        "colab": {}
      },
      "cell_type": "code",
      "source": [
        "x_train['Age'] = x_train.Age.fillna(age_fill_value)\n",
        "x_val['Age'] = x_val.Age.fillna(age_fill_value)\n",
        "test['Age'] = test.Age.fillna(age_fill_value)\n",
        "test['Fare'] = test.Fare.fillna(fare_fill_value)"
      ],
      "execution_count": 0,
      "outputs": []
    },
    {
      "metadata": {
        "id": "TmK3N5xpsh53",
        "colab_type": "code",
        "colab": {}
      },
      "cell_type": "code",
      "source": [
        "'''\n",
        "missing_cols = set( x_train.columns ) - set( x_val.columns )\n",
        "# Add a missing column in test set with default value equal to 0\n",
        "for c in missing_cols:\n",
        "    x_val[c] = 0\n",
        "# Ensure the order of column in the test set is in the same order than in train set\n",
        "x_val = x_val[x_train.columns]\n",
        "'''"
      ],
      "execution_count": 0,
      "outputs": []
    },
    {
      "metadata": {
        "id": "80v0yUYAsjp8",
        "colab_type": "code",
        "colab": {}
      },
      "cell_type": "code",
      "source": [
        "x_train['Age_Pclass'] = x_train.Age * x_train.Pclass\n",
        "test['Age_Pclass'] = test.Age * test.Pclass\n",
        "x_val['Age_Pclass'] = x_val.Age * x_val.Pclass\n",
        "\n",
        "x_train['FarePerPerson'] = x_train.Fare/(x_train.FamilySize+1)\n",
        "x_val['FarePerPerson'] = x_val.Fare/(x_val.FamilySize+1)\n",
        "test['FarePerPerson'] = test.Fare/(test.FamilySize+1)\n",
        "from sklearn.ensemble import RandomForestClassifier\n",
        "reg = RandomForestClassifier(n_jobs=-1,n_estimators=1000,min_samples_leaf=5,max_features ='log2',random_state=42,oob_score=True)\n",
        "reg.fit(x_train,y_train)"
      ],
      "execution_count": 0,
      "outputs": []
    },
    {
      "metadata": {
        "id": "5yTyqj8xslmb",
        "colab_type": "code",
        "colab": {
          "base_uri": "https://localhost:8080/",
          "height": 51
        },
        "outputId": "88f9bd9b-c809-4928-d7cc-b5e444c6076e"
      },
      "cell_type": "code",
      "source": [
        "import math\n",
        "\n",
        "print(reg.score(x_train,y_train))\n",
        "print(reg.score(x_val,y_val))"
      ],
      "execution_count": 18,
      "outputs": [
        {
          "output_type": "stream",
          "text": [
            "0.8848314606741573\n",
            "0.8324022346368715\n"
          ],
          "name": "stdout"
        }
      ]
    },
    {
      "metadata": {
        "id": "7jjNEPoWsn4E",
        "colab_type": "code",
        "colab": {}
      },
      "cell_type": "code",
      "source": [
        "for i in test.columns:\n",
        "    print(i,'-',test[i].isna().sum())"
      ],
      "execution_count": 0,
      "outputs": []
    },
    {
      "metadata": {
        "id": "cI-jPrrwspzO",
        "colab_type": "code",
        "colab": {}
      },
      "cell_type": "code",
      "source": [
        "prediction = reg.predict(test)\n",
        "deep_output = pd.DataFrame({'PassengerId':test_csv['PassengerId'],\n",
        "                            'Survived':prediction})\n",
        "deep_output.to_csv('output.csv',index=False)"
      ],
      "execution_count": 0,
      "outputs": []
    }
  ]
}