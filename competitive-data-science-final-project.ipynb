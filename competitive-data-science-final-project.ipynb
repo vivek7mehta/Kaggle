{
  "nbformat": 4,
  "nbformat_minor": 0,
  "metadata": {
    "colab": {
      "name": "Untitled3.ipynb",
      "version": "0.3.2",
      "provenance": []
    },
    "kernelspec": {
      "name": "python3",
      "display_name": "Python 3"
    },
    "accelerator": "GPU"
  },
  "cells": [
    {
      "metadata": {
        "id": "L-SEocCZ284j",
        "colab_type": "code",
        "colab": {}
      },
      "cell_type": "code",
      "source": [
        "import os\n",
        "os.environ['KAGGLE_USERNAME'] = \"\"\n",
        "os.environ['KAGGLE_KEY'] = \"\"\n",
        "!kaggle competitions download -c competitive-data-science-final-project"
      ],
      "execution_count": 0,
      "outputs": []
    },
    {
      "metadata": {
        "id": "a39JSSKOzED9",
        "colab_type": "code",
        "colab": {}
      },
      "cell_type": "code",
      "source": [
        "import numpy as np \n",
        "import pandas as pd \n",
        "from sklearn.model_selection import train_test_split\n",
        "\n",
        "items = pd.read_csv('items.csv')\n",
        "item_categories = pd.read_csv('item_categories.csv')\n",
        "shops = pd.read_csv('shops.csv')\n",
        "test = pd.read_csv('test.csv.gz')\n",
        "train = pd.read_csv('sales_train.csv.gz')\n",
        "sample_submission = pd.read_csv('sample_submission.csv.gz')\n",
        "\n",
        "# convert train dataset string date to date time\n",
        "train.date = pd.to_datetime(train.date,format='%d.%m.%Y')"
      ],
      "execution_count": 0,
      "outputs": []
    },
    {
      "metadata": {
        "id": "rNV-_XpHlFIt",
        "colab_type": "code",
        "colab": {}
      },
      "cell_type": "code",
      "source": [
        "# joined data frame train\n",
        "\n",
        "train_joined = (\n",
        "    train\n",
        "    .join(shops.set_index('shop_id'),on='shop_id')\n",
        "    .join(items.set_index('item_id'),on='item_id')\n",
        "    .join(item_categories.set_index('item_category_id'),on='item_category_id')  \n",
        ")"
      ],
      "execution_count": 0,
      "outputs": []
    },
    {
      "metadata": {
        "id": "oK4YAbTlsFfY",
        "colab_type": "code",
        "colab": {}
      },
      "cell_type": "code",
      "source": [
        "sale_month = train_joined[['shop_id','item_id','date_block_num','item_cnt_day']].groupby(['shop_id','item_id','date_block_num']).sum()"
      ],
      "execution_count": 0,
      "outputs": []
    },
    {
      "metadata": {
        "id": "TvumqiAf0tql",
        "colab_type": "code",
        "colab": {}
      },
      "cell_type": "code",
      "source": [
        "from sklearn.ensemble import RandomForestClassifier\n",
        "import numpy as np\n",
        "\n",
        "_temp_train = train_joined.drop(['item_cnt_day','date'],axis=1)\n",
        "y = train_joined.item_cnt_day\n",
        "\n",
        "X = _temp_train.copy()\n",
        "\n",
        "X.fillna(-999)\n",
        "\n",
        "X,y = X[::40],y[::40]\n",
        "\n",
        "for c in _temp_train.columns[_temp_train.dtypes == 'object']:\n",
        "    X[c] = X[c].factorize()[0]\n",
        "    \n",
        "rf = RandomForestClassifier()\n",
        "rf.fit(X,y)"
      ],
      "execution_count": 0,
      "outputs": []
    },
    {
      "metadata": {
        "id": "0gqh3azsB00i",
        "colab_type": "code",
        "colab": {}
      },
      "cell_type": "code",
      "source": [
        "import matplotlib.pyplot as plt\n",
        "plt.plot(rf.feature_importances_)\n",
        "plt.xticks(np.arange(X.shape[1]), X.columns.tolist(), rotation=90);"
      ],
      "execution_count": 0,
      "outputs": []
    },
    {
      "metadata": {
        "id": "RgSrvYH9P_7X",
        "colab_type": "code",
        "colab": {}
      },
      "cell_type": "code",
      "source": [
        "train_joined.head(5)\n",
        "train_joined['dayofweek'] = train_joined.date.dt.dayofweek"
      ],
      "execution_count": 0,
      "outputs": []
    },
    {
      "metadata": {
        "id": "kbrWSsYNvzvV",
        "colab_type": "code",
        "colab": {
          "base_uri": "https://localhost:8080/",
          "height": 35
        },
        "outputId": "e2f23801-693b-49d8-be11-931fbdb8c0b6"
      },
      "cell_type": "code",
      "source": [
        "# duplicated\n",
        "train_joined.duplicated().sum()"
      ],
      "execution_count": 96,
      "outputs": [
        {
          "output_type": "execute_result",
          "data": {
            "text/plain": [
              "6"
            ]
          },
          "metadata": {
            "tags": []
          },
          "execution_count": 96
        }
      ]
    },
    {
      "metadata": {
        "id": "wSSPYt4Ex51w",
        "colab_type": "code",
        "colab": {}
      },
      "cell_type": "code",
      "source": [
        "#train_joined[['dayofweek','item_cnt_day','date_block_num']].groupby(['dayofweek','date_block_num']).sum().plot()\n",
        "#train_joined[['dayofweek','item_cnt_day']].groupby(['dayofweek']).sum().plot()\n",
        "#train_joined[['date_block_num','item_cnt_day']].groupby(['date_block_num']).sum().plot()\n",
        "#train_joined[['item_id','item_cnt_day']].groupby(['item_id']).sum().plot()\n",
        "#train_joined[['item_id','item_cnt_day']].groupby(['item_id']).sum().idxmax()\n",
        "#train_joined[train_joined.item_id==20949].nunique()\n",
        "_shps = set(train_joined.item_category_name)\n",
        "_shps\n",
        "#20949,71"
      ],
      "execution_count": 0,
      "outputs": []
    }
  ]
}